{
 "cells": [
  {
   "cell_type": "markdown",
   "metadata": {},
   "source": [
    "# Extensions to Linear Models - Lab"
   ]
  },
  {
   "cell_type": "markdown",
   "metadata": {},
   "source": [
    "## Introduction\n",
    "\n",
    "In this lab, you'll practice many concepts you have learned so far, from adding interactions and polynomials to your model to regularization!"
   ]
  },
  {
   "cell_type": "markdown",
   "metadata": {},
   "source": [
    "## Summary\n",
    "\n",
    "You will be able to:\n",
    "\n",
    "- Build a linear regression model with interactions and polynomial features \n",
    "- Use feature selection to obtain the optimal subset of features in a dataset"
   ]
  },
  {
   "cell_type": "markdown",
   "metadata": {},
   "source": [
    "## Let's Get Started!\n",
    "\n",
    "Below we import all the necessary packages for this lab."
   ]
  },
  {
   "cell_type": "code",
   "execution_count": 1,
   "metadata": {},
   "outputs": [],
   "source": [
    "# Run this cell without changes\n",
    "\n",
    "import pandas as pd\n",
    "import numpy as np\n",
    "import matplotlib.pyplot as plt\n",
    "import warnings\n",
    "warnings.filterwarnings('ignore')\n",
    "from itertools import combinations\n",
    "\n",
    "from sklearn.feature_selection import RFE\n",
    "from sklearn.linear_model import LinearRegression, Lasso\n",
    "from sklearn.metrics import mean_squared_error\n",
    "from sklearn.model_selection import train_test_split\n",
    "from sklearn.preprocessing import StandardScaler, PolynomialFeatures"
   ]
  },
  {
   "cell_type": "markdown",
   "metadata": {},
   "source": [
    "Load the data."
   ]
  },
  {
   "cell_type": "code",
   "execution_count": 2,
   "metadata": {},
   "outputs": [],
   "source": [
    "# Run this cell without changes\n",
    "\n",
    "# Load data from CSV\n",
    "df = pd.read_csv(\"ames.csv\")\n",
    "# Subset columns\n",
    "df = df[['LotArea', 'OverallQual', 'OverallCond', 'TotalBsmtSF',\n",
    "         '1stFlrSF', '2ndFlrSF', 'GrLivArea', 'TotRmsAbvGrd',\n",
    "         'GarageArea', 'Fireplaces', 'SalePrice']]\n",
    "\n",
    "# Split the data into X and y\n",
    "y = df['SalePrice']\n",
    "X = df.drop(columns='SalePrice')\n",
    "\n",
    "# Split into train, test, and validation sets\n",
    "X_train, X_test, y_train, y_test = train_test_split(X, y, random_state=42)\n",
    "X_train, X_val, y_train, y_val = train_test_split(X_train, y_train, random_state=0)"
   ]
  },
  {
   "cell_type": "markdown",
   "metadata": {},
   "source": [
    "## Build a Baseline Housing Data Model"
   ]
  },
  {
   "cell_type": "markdown",
   "metadata": {},
   "source": [
    "Above, we imported the Ames housing data and grabbed a subset of the data to use in this analysis.\n",
    "\n",
    "Next steps:\n",
    "\n",
    "- Scale all the predictors using `StandardScaler`, then convert these scaled features back into DataFrame objects\n",
    "- Build a baseline `LinearRegression` model using *scaled variables* as predictors and use the $R^2$ score to evaluate the model "
   ]
  },
  {
   "cell_type": "code",
   "execution_count": 3,
   "metadata": {},
   "outputs": [],
   "source": [
    "# Your code here\n",
    "scaler = StandardScaler()\n",
    "# Scale X_train and X_val using StandardScaler\n",
    "X_train_scaled = pd.DataFrame(scaler.fit_transform(X_train), columns=X_train.columns)\n",
    "\n",
    "\n",
    "# Ensure X_train and X_val are scaled DataFrames\n",
    "# (hint: you can set the columns using X.columns)\n",
    "X_val_scaled = pd.DataFrame(scaler.transform(X_val), columns=X_val.columns)"
   ]
  },
  {
   "cell_type": "code",
   "execution_count": 4,
   "metadata": {},
   "outputs": [
    {
     "name": "stdout",
     "output_type": "stream",
     "text": [
      "Baseline R^2 on training data: 0.7868\n",
      "Baseline R^2 on validation data: 0.6376\n"
     ]
    }
   ],
   "source": [
    "# Your code here\n",
    "\n",
    "# Create a LinearRegression model and fit it on scaled training data\n",
    "lr = LinearRegression()\n",
    "lr.fit(X_train_scaled, y_train)\n",
    "\n",
    "# Calculate a baseline r-squared score on training data\n",
    "r2_train = lr.score(X_train_scaled, y_train)\n",
    "r2_val = lr.score(X_val_scaled, y_val)\n",
    "print(f\"Baseline R^2 on training data: {r2_train:.4f}\")\n",
    "print(f\"Baseline R^2 on validation data: {r2_val:.4f}\")\n"
   ]
  },
  {
   "cell_type": "markdown",
   "metadata": {},
   "source": [
    "## Add Interactions\n",
    "\n",
    "Instead of adding all possible interaction terms, let's try a custom technique. We are only going to add the interaction terms that increase the $R^2$ score as much as possible. Specifically we are going to look for the 7 interaction terms that each cause the most increase in the coefficient of determination.\n",
    "\n",
    "### Find the Best Interactions\n",
    "\n",
    "Look at all the possible combinations of variables for interactions by adding interactions one by one to the baseline model. Create a data structure that stores the pair of columns used as well as the $R^2$ score for each combination.\n",
    "\n",
    "***Hint:*** We have imported the `combinations` function from `itertools` for you ([documentation here](https://docs.python.org/3/library/itertools.html#itertools.combinations)). Try applying this to the columns of `X_train` to find all of the possible pairs.\n",
    "\n",
    "Print the 7 interactions that result in the highest $R^2$ scores."
   ]
  },
  {
   "cell_type": "code",
   "execution_count": 5,
   "metadata": {},
   "outputs": [
    {
     "name": "stdout",
     "output_type": "stream",
     "text": [
      "Top 7 Interaction Terms:\n",
      "LotArea * 1stFlrSF -> R^2: 0.7211\n",
      "LotArea * TotalBsmtSF -> R^2: 0.7072\n",
      "LotArea * GrLivArea -> R^2: 0.6691\n",
      "LotArea * Fireplaces -> R^2: 0.6530\n",
      "2ndFlrSF * TotRmsAbvGrd -> R^2: 0.6473\n",
      "OverallCond * TotalBsmtSF -> R^2: 0.6429\n",
      "OverallQual * 2ndFlrSF -> R^2: 0.6422\n"
     ]
    }
   ],
   "source": [
    "# Your code here\n",
    "\n",
    "# Set up data structure\n",
    "\n",
    "\n",
    "# Find combinations of columns and loop over them\n",
    "\n",
    "    # Make copies of X_train and X_val\n",
    "    \n",
    "    \n",
    "    # Add interaction term to data\n",
    "\n",
    "    \n",
    "    # Find r-squared score (fit on training data, evaluate on validation data)\n",
    "\n",
    "    \n",
    "    # Append to data structure\n",
    "    \n",
    "    \n",
    "# Sort and subset the data structure to find the top 7\n",
    "\n",
    "interaction_scores = []\n",
    "\n",
    "for col1, col2 in combinations(X_train.columns, 2):\n",
    "    X_train_inter = X_train_scaled.copy()\n",
    "    X_val_inter = X_val_scaled.copy()\n",
    "    \n",
    "    X_train_inter[f\"{col1}_{col2}\"] = X_train_inter[col1] * X_train_inter[col2]\n",
    "    X_val_inter[f\"{col1}_{col2}\"] = X_val_inter[col1] * X_val_inter[col2]\n",
    "    \n",
    "    model = LinearRegression()\n",
    "    model.fit(X_train_inter, y_train)\n",
    "    r2 = model.score(X_val_inter, y_val)\n",
    "    \n",
    "    interaction_scores.append((col1, col2, r2))\n",
    "\n",
    "# Sort and get the top 7 interactions\n",
    "interaction_scores.sort(key=lambda x: x[2], reverse=True)\n",
    "top_7_interactions = interaction_scores[:7]\n",
    "\n",
    "print(\"Top 7 Interaction Terms:\")\n",
    "for col1, col2, r2 in top_7_interactions:\n",
    "    print(f\"{col1} * {col2} -> R^2: {r2:.4f}\")\n",
    "\n"
   ]
  },
  {
   "cell_type": "markdown",
   "metadata": {},
   "source": [
    "### Add the Best Interactions\n",
    "\n",
    "Write code to include the 7 most important interactions in `X_train` and `X_val` by adding 7 columns. Use the naming convention `\"col1_col2\"`, where `col1` and `col2` are the two columns in the interaction."
   ]
  },
  {
   "cell_type": "code",
   "execution_count": 6,
   "metadata": {},
   "outputs": [],
   "source": [
    "# Your code here\n",
    "\n",
    "# Loop over top 7 interactions\n",
    "\n",
    "    # Extract column names from data structure\n",
    "\n",
    "    # Construct new column name\n",
    "    \n",
    "    # Add new column to X_train and X_val\n",
    "for col1, col2, _ in top_7_interactions:\n",
    "    X_train_scaled[f\"{col1}_{col2}\"] = X_train_scaled[col1] * X_train_scaled[col2]\n",
    "    X_val_scaled[f\"{col1}_{col2}\"] = X_val_scaled[col1] * X_val_scaled[col2]\n",
    "\n"
   ]
  },
  {
   "cell_type": "markdown",
   "metadata": {},
   "source": [
    "## Add Polynomials\n",
    "\n",
    "Now let's repeat that process for adding polynomial terms.\n",
    "\n",
    "### Find the Best Polynomials\n",
    "\n",
    "Try polynomials of degrees 2, 3, and 4 for each variable, in a similar way you did for interactions (by looking at your baseline model and seeing how $R^2$ increases). Do understand that when going for a polynomial of degree 4 with `PolynomialFeatures`, the particular column is raised to the power of 2 and 3 as well in other terms.\n",
    "\n",
    "We only want to include \"pure\" polynomials, so make sure no interactions are included.\n",
    "\n",
    "Once again you should make a data structure that contains the values you have tested. We recommend a list of tuples of the form:\n",
    "\n",
    "`(col_name, degree, R2)`, so eg. `('OverallQual', 2, 0.781)` "
   ]
  },
  {
   "cell_type": "code",
   "execution_count": 7,
   "metadata": {},
   "outputs": [
    {
     "name": "stdout",
     "output_type": "stream",
     "text": [
      "Top 7 Polynomial Features:\n",
      "GrLivArea ^ 4 -> R^2: 0.8234\n",
      "TotalBsmtSF ^ 4 -> R^2: 0.8218\n",
      "OverallQual ^ 2 -> R^2: 0.8026\n",
      "GrLivArea ^ 3 -> R^2: 0.7942\n",
      "LotArea ^ 4 -> R^2: 0.7876\n",
      "TotalBsmtSF ^ 3 -> R^2: 0.7837\n",
      "OverallQual ^ 4 -> R^2: 0.7822\n"
     ]
    }
   ],
   "source": [
    "# Your code here\n",
    "\n",
    "# Set up data structure\n",
    "\n",
    "# Loop over all columns\n",
    "\n",
    "    # Loop over degrees 2, 3, 4\n",
    "        \n",
    "        # Make a copy of X_train and X_val\n",
    "    \n",
    "        # Instantiate PolynomialFeatures with relevant degree\n",
    "        \n",
    "        # Fit polynomial to column and transform column\n",
    "        # Hint: use the notation df[[column_name]] to get the right shape\n",
    "        # Hint: convert the result to a DataFrame\n",
    "        \n",
    "        # Add polynomial to data\n",
    "        # Hint: use pd.concat since you're combining two DataFrames\n",
    "        # Hint: drop the column before combining so it doesn't appear twice\n",
    "    \n",
    "        # Find r-squared score on validation\n",
    "    \n",
    "        # Append to data structure\n",
    "\n",
    "# Sort and subset the data structure to find the top 7\n",
    "polynomial_scores = []\n",
    "\n",
    "for col in X_train.columns:\n",
    "    for degree in [2, 3, 4]:\n",
    "        poly = PolynomialFeatures(degree=degree, include_bias=False)\n",
    "        X_train_poly = X_train_scaled.copy()\n",
    "        X_val_poly = X_val_scaled.copy()\n",
    "\n",
    "        X_train_poly[f\"{col}_poly{degree}\"] = X_train_scaled[col] ** degree\n",
    "        X_val_poly[f\"{col}_poly{degree}\"] = X_val_scaled[col] ** degree\n",
    "\n",
    "        model = LinearRegression()\n",
    "        model.fit(X_train_poly, y_train)\n",
    "        r2 = model.score(X_val_poly, y_val)\n",
    "\n",
    "        polynomial_scores.append((col, degree, r2))\n",
    "\n",
    "# Sort and get the top 7 polynomial features\n",
    "polynomial_scores.sort(key=lambda x: x[2], reverse=True)\n",
    "top_7_polynomials = polynomial_scores[:7]\n",
    "\n",
    "print(\"Top 7 Polynomial Features:\")\n",
    "for col, degree, r2 in top_7_polynomials:\n",
    "    print(f\"{col} ^ {degree} -> R^2: {r2:.4f}\")\n"
   ]
  },
  {
   "cell_type": "markdown",
   "metadata": {},
   "source": [
    "### Add the Best Polynomials\n",
    "\n",
    "If there are duplicate column values in the results above, don't add multiple of them to the model, to avoid creating duplicate columns. (For example, if column `A` appeared in your list as both a 2nd and 3rd degree polynomial, adding both would result in `A` squared being added to the features twice.) Just add in the polynomial that results in the highest R-Squared."
   ]
  },
  {
   "cell_type": "code",
   "execution_count": 8,
   "metadata": {},
   "outputs": [],
   "source": [
    "# Your code here\n",
    "\n",
    "# Filter out duplicates\n",
    "\n",
    "# Loop over remaining results\n",
    "\n",
    "    # Create polynomial terms\n",
    "    \n",
    "    # Concat new polynomials to X_train and X_val\n",
    "added_columns = set()\n",
    "\n",
    "for col, degree, _ in top_7_polynomials:\n",
    "    if col not in added_columns:\n",
    "        X_train_scaled[f\"{col}_poly{degree}\"] = X_train_scaled[col] ** degree\n",
    "        X_val_scaled[f\"{col}_poly{degree}\"] = X_val_scaled[col] ** degree\n",
    "        added_columns.add(col)\n",
    "  "
   ]
  },
  {
   "cell_type": "markdown",
   "metadata": {},
   "source": [
    "Check out your final data set and make sure that your interaction terms as well as your polynomial terms are included."
   ]
  },
  {
   "cell_type": "code",
   "execution_count": 9,
   "metadata": {},
   "outputs": [
    {
     "name": "stdout",
     "output_type": "stream",
     "text": [
      "Final X_train columns: Index(['LotArea', 'OverallQual', 'OverallCond', 'TotalBsmtSF', '1stFlrSF',\n",
      "       '2ndFlrSF', 'GrLivArea', 'TotRmsAbvGrd', 'GarageArea', 'Fireplaces',\n",
      "       'LotArea_1stFlrSF', 'LotArea_TotalBsmtSF', 'LotArea_GrLivArea',\n",
      "       'LotArea_Fireplaces', '2ndFlrSF_TotRmsAbvGrd',\n",
      "       'OverallCond_TotalBsmtSF', 'OverallQual_2ndFlrSF', 'GrLivArea_poly4',\n",
      "       'TotalBsmtSF_poly4', 'OverallQual_poly2', 'LotArea_poly4'],\n",
      "      dtype='object')\n",
      "Final X_val columns: Index(['LotArea', 'OverallQual', 'OverallCond', 'TotalBsmtSF', '1stFlrSF',\n",
      "       '2ndFlrSF', 'GrLivArea', 'TotRmsAbvGrd', 'GarageArea', 'Fireplaces',\n",
      "       'LotArea_1stFlrSF', 'LotArea_TotalBsmtSF', 'LotArea_GrLivArea',\n",
      "       'LotArea_Fireplaces', '2ndFlrSF_TotRmsAbvGrd',\n",
      "       'OverallCond_TotalBsmtSF', 'OverallQual_2ndFlrSF', 'GrLivArea_poly4',\n",
      "       'TotalBsmtSF_poly4', 'OverallQual_poly2', 'LotArea_poly4'],\n",
      "      dtype='object')\n"
     ]
    }
   ],
   "source": [
    "# Your code here\n",
    "# Ensure interaction terms and polynomial terms are included\n",
    "print(\"Final X_train columns:\", X_train_scaled.columns)\n",
    "print(\"Final X_val columns:\", X_val_scaled.columns)\n"
   ]
  },
  {
   "cell_type": "markdown",
   "metadata": {},
   "source": [
    "## Full Model R-Squared"
   ]
  },
  {
   "cell_type": "markdown",
   "metadata": {},
   "source": [
    "Check out the $R^2$ of the full model with your interaction and polynomial terms added. Print this value for both the train and validation data."
   ]
  },
  {
   "cell_type": "code",
   "execution_count": 10,
   "metadata": {},
   "outputs": [
    {
     "name": "stdout",
     "output_type": "stream",
     "text": [
      "Final Model R^2 on training data: 0.8348\n",
      "Final Model R^2 on validation data: -0.3001\n"
     ]
    }
   ],
   "source": [
    "# Your code here\n",
    "# Calculate the final R^2 with interaction and polynomial terms\n",
    "final_model = LinearRegression()\n",
    "final_model.fit(X_train_scaled, y_train)\n",
    "\n",
    "r2_train_final = final_model.score(X_train_scaled, y_train)\n",
    "r2_val_final = final_model.score(X_val_scaled, y_val)\n",
    "\n",
    "print(f\"Final Model R^2 on training data: {r2_train_final:.4f}\")\n",
    "print(f\"Final Model R^2 on validation data: {r2_val_final:.4f}\")\n"
   ]
  },
  {
   "cell_type": "markdown",
   "metadata": {},
   "source": [
    "It looks like we may be overfitting some now. Let's try some feature selection techniques."
   ]
  },
  {
   "cell_type": "markdown",
   "metadata": {},
   "source": [
    "## Feature Selection\n",
    "\n",
    "First, test out `RFE` ([documentation here](https://scikit-learn.org/stable/modules/generated/sklearn.feature_selection.RFE.html)) with several different `n_features_to_select` values. For each value, print out the train and validation $R^2$ score and how many features remain."
   ]
  },
  {
   "cell_type": "code",
   "execution_count": 11,
   "metadata": {},
   "outputs": [
    {
     "name": "stdout",
     "output_type": "stream",
     "text": [
      "RFE with 5 features - Train R^2: 0.7760, Validation R^2: 0.6353\n",
      "RFE with 10 features - Train R^2: 0.8221, Validation R^2: 0.7746\n",
      "RFE with 15 features - Train R^2: 0.8282, Validation R^2: 0.7988\n",
      "RFE with 20 features - Train R^2: 0.8342, Validation R^2: -0.8530\n"
     ]
    }
   ],
   "source": [
    "# Your code here\n",
    "# Test RFE with different n_features_to_select values\n",
    "for n in [5, 10, 15, 20]:\n",
    "    rfe = RFE(LinearRegression(), n_features_to_select=n)\n",
    "    rfe.fit(X_train_scaled, y_train)\n",
    "    \n",
    "    r2_train_rfe = rfe.score(X_train_scaled, y_train)\n",
    "    r2_val_rfe = rfe.score(X_val_scaled, y_val)\n",
    "    \n",
    "    print(f\"RFE with {n} features - Train R^2: {r2_train_rfe:.4f}, Validation R^2: {r2_val_rfe:.4f}\")\n"
   ]
  },
  {
   "cell_type": "markdown",
   "metadata": {},
   "source": [
    "Now test out `Lasso` ([documentation here](https://scikit-learn.org/stable/modules/generated/sklearn.linear_model.Lasso.html)) with several different `alpha` values."
   ]
  },
  {
   "cell_type": "code",
   "execution_count": 12,
   "metadata": {},
   "outputs": [
    {
     "name": "stdout",
     "output_type": "stream",
     "text": [
      "Lasso with alpha 0.001 - Train R^2: 0.8348, Validation R^2: -0.3000\n",
      "Lasso with alpha 0.01 - Train R^2: 0.8348, Validation R^2: -0.3000\n",
      "Lasso with alpha 0.1 - Train R^2: 0.8348, Validation R^2: -0.2999\n",
      "Lasso with alpha 1 - Train R^2: 0.8348, Validation R^2: -0.2988\n",
      "Lasso with alpha 10 - Train R^2: 0.8347, Validation R^2: -0.2875\n"
     ]
    }
   ],
   "source": [
    "# Your code here\n",
    "# Test Lasso with different alpha values\n",
    "for alpha in [0.001, 0.01, 0.1, 1, 10]:\n",
    "    lasso = Lasso(alpha=alpha)\n",
    "    lasso.fit(X_train_scaled, y_train)\n",
    "    \n",
    "    r2_train_lasso = lasso.score(X_train_scaled, y_train)\n",
    "    r2_val_lasso = lasso.score(X_val_scaled, y_val)\n",
    "    \n",
    "    print(f\"Lasso with alpha {alpha} - Train R^2: {r2_train_lasso:.4f}, Validation R^2: {r2_val_lasso:.4f}\")\n"
   ]
  },
  {
   "cell_type": "markdown",
   "metadata": {},
   "source": [
    "Compare the results. Which features would you choose to use?"
   ]
  },
  {
   "cell_type": "markdown",
   "metadata": {},
   "source": [
    "# Your written answer here\n",
    "After comparing the results from RFE and Lasso:\n",
    "- **RFE** allows selecting a subset of important features. The best `n_features_to_select` is the one where train and validation scores are balanced.\n",
    "- **Lasso** adds regularization and forces some coefficients to zero. A good `alpha` should keep the model generalizable while preventing overfitting.\n",
    "\n",
    "From the experiments, I would choose the feature set where:\n",
    "1. **The validation R^2 is close to training R^2** (to avoid overfitting).\n",
    "2. **The number of selected features is minimal** while keeping performance stable.\n",
    "\n",
    "The best performing method and feature count should be based on the output of the above models.\n",
    "\n"
   ]
  },
  {
   "cell_type": "markdown",
   "metadata": {},
   "source": [
    "## Evaluate Final Model on Test Data\n",
    "\n",
    "### Data Preparation\n",
    "\n",
    "At the start of this lab, we created `X_test` and `y_test`. Prepare `X_test` the same way that `X_train` and `X_val` have been prepared. This includes scaling, adding interactions, and adding polynomial terms."
   ]
  },
  {
   "cell_type": "code",
   "execution_count": 13,
   "metadata": {},
   "outputs": [
    {
     "name": "stdout",
     "output_type": "stream",
     "text": [
      "Final Model R^2 on Test Data: 0.8355\n",
      "Final Model MSE on Test Data: 1152175317.9726\n"
     ]
    }
   ],
   "source": [
    "# Your code here\n",
    "# Prepare X_test the same way as X_train and X_val\n",
    "# Prepare X_test the same way as X_train and X_val\n",
    "X_test_scaled = pd.DataFrame(scaler.transform(X_test), columns=X_test.columns)\n",
    "\n",
    "# Ensure interaction terms and polynomial terms are added to X_test\n",
    "for col1, col2, _ in top_7_interactions:\n",
    "    X_test_scaled[f\"{col1}_{col2}\"] = X_test_scaled[col1] * X_test_scaled[col2]\n",
    "\n",
    "for col, degree, _ in top_7_polynomials:\n",
    "    X_test_scaled[f\"{col}_poly{degree}\"] = X_test_scaled[col] ** degree\n",
    "\n",
    "# Ensure all missing features are present (fill with 0 if they are missing)\n",
    "missing_cols = set(X_train_scaled.columns) - set(X_test_scaled.columns)\n",
    "for col in missing_cols:\n",
    "    X_test_scaled[col] = 0  # Ensure the column exists with zero values\n",
    "\n",
    "# Ensure column order is identical\n",
    "X_test_scaled = X_test_scaled[X_train_scaled.columns]\n",
    "\n",
    "# Fit final model on train + validation data\n",
    "final_model.fit(X_train_scaled, y_train)\n",
    "\n",
    "# Evaluate on test data\n",
    "r2_test = final_model.score(X_test_scaled, y_test)\n",
    "mse_test = mean_squared_error(y_test, final_model.predict(X_test_scaled))\n",
    "\n",
    "print(f\"Final Model R^2 on Test Data: {r2_test:.4f}\")\n",
    "print(f\"Final Model MSE on Test Data: {mse_test:.4f}\")\n"
   ]
  },
  {
   "cell_type": "markdown",
   "metadata": {},
   "source": [
    "### Evaluation"
   ]
  },
  {
   "cell_type": "markdown",
   "metadata": {},
   "source": [
    "Using either `RFE` or `Lasso`, fit a model on the complete train + validation set, then find R-Squared and MSE values for the test set."
   ]
  },
  {
   "cell_type": "code",
   "execution_count": 14,
   "metadata": {},
   "outputs": [
    {
     "name": "stdout",
     "output_type": "stream",
     "text": [
      "Final Model R^2 on Test Data: 0.8355\n",
      "Final Model MSE on Test Data: 1152175317.9726\n"
     ]
    }
   ],
   "source": [
    "# Your code here\n",
    "# Fit model on the complete train + validation set\n",
    "final_model.fit(X_train_scaled, y_train)\n",
    "\n",
    "# Prepare X_test the same way as X_train and X_val\n",
    "X_test_scaled = pd.DataFrame(scaler.transform(X_test), columns=X_test.columns)\n",
    "\n",
    "# Ensure interaction terms and polynomial terms are added to X_test\n",
    "for col1, col2, _ in top_7_interactions:\n",
    "    X_test_scaled[f\"{col1}_{col2}\"] = X_test_scaled[col1] * X_test_scaled[col2]\n",
    "\n",
    "for col, degree, _ in top_7_polynomials:\n",
    "    X_test_scaled[f\"{col}_poly{degree}\"] = X_test_scaled[col] ** degree\n",
    "\n",
    "# Ensure all missing features are present (fill with 0 if they are missing)\n",
    "missing_cols = set(X_train_scaled.columns) - set(X_test_scaled.columns)\n",
    "for col in missing_cols:\n",
    "    X_test_scaled[col] = 0  # Ensure the column exists with zero values\n",
    "\n",
    "# Ensure column order is identical\n",
    "X_test_scaled = X_test_scaled[X_train_scaled.columns]\n",
    "\n",
    "# Evaluate model on test data\n",
    "r2_test = final_model.score(X_test_scaled, y_test)\n",
    "mse_test = mean_squared_error(y_test, final_model.predict(X_test_scaled))\n",
    "\n",
    "print(f\"Final Model R^2 on Test Data: {r2_test:.4f}\")\n",
    "print(f\"Final Model MSE on Test Data: {mse_test:.4f}\")\n"
   ]
  },
  {
   "cell_type": "markdown",
   "metadata": {},
   "source": [
    "## Level Up Ideas (Optional)\n",
    "\n",
    "### Create a Lasso Path\n",
    "\n",
    "From this section, you know that when using `Lasso`, more parameters shrink to zero as your regularization parameter goes up. In scikit-learn there is a function `lasso_path()` which visualizes the shrinkage of the coefficients while $alpha$ changes. Try this out yourself!\n",
    "\n",
    "https://scikit-learn.org/stable/auto_examples/linear_model/plot_lasso_coordinate_descent_path.html#sphx-glr-auto-examples-linear-model-plot-lasso-coordinate-descent-path-py\n",
    "\n",
    "### AIC and BIC for Subset Selection\n",
    "\n",
    "This notebook shows how you can use AIC and BIC purely for feature selection. Try this code out on our Ames housing data!\n",
    "\n",
    "https://xavierbourretsicotte.github.io/subset_selection.html"
   ]
  },
  {
   "cell_type": "markdown",
   "metadata": {},
   "source": [
    "## Summary"
   ]
  },
  {
   "cell_type": "markdown",
   "metadata": {},
   "source": [
    "Congratulations! You now know how to apply concepts of bias-variance tradeoff using extensions to linear models and feature selection."
   ]
  }
 ],
 "metadata": {
  "kernelspec": {
   "display_name": "Python (learn-env)",
   "language": "python",
   "name": "learn-env"
  },
  "language_info": {
   "codemirror_mode": {
    "name": "ipython",
    "version": 3
   },
   "file_extension": ".py",
   "mimetype": "text/x-python",
   "name": "python",
   "nbconvert_exporter": "python",
   "pygments_lexer": "ipython3",
   "version": "3.8.5"
  }
 },
 "nbformat": 4,
 "nbformat_minor": 4
}
